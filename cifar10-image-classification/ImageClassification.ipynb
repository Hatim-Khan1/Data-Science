{
 "cells": [
  {
   "cell_type": "code",
   "execution_count": 2,
   "id": "dc6c3546-9288-4b74-9a50-47d3ed15141e",
   "metadata": {},
   "outputs": [],
   "source": [
    "import numpy as np\n",
    "from PIL import Image\n",
    "\n",
    "import torch\n",
    "import torch.nn as nn\n",
    "import torch.nn.functional as F\n",
    "import torch.optim as optim\n",
    "\n",
    "import torchvision\n",
    "import torchvision.transforms as transforms"
   ]
  },
  {
   "cell_type": "code",
   "execution_count": 4,
   "id": "bdec0a21-7d16-4941-b49a-ce5848fae118",
   "metadata": {},
   "outputs": [
    {
     "name": "stdout",
     "output_type": "stream",
     "text": [
      "Using Device: cuda\n"
     ]
    }
   ],
   "source": [
    "device = torch.device(\"cuda\" if torch.cuda.is_available() else \"cpu\")\n",
    "print(\"Using Device:\", device)"
   ]
  },
  {
   "cell_type": "code",
   "execution_count": 5,
   "id": "55006d55-dc51-4add-8026-de52d044bb86",
   "metadata": {},
   "outputs": [],
   "source": [
    "transform = transforms.Compose([\n",
    "    transforms.ToTensor(),\n",
    "    transforms.Normalize((0.5, 0.5, 0.5), (0.5, 0.5, 0.5))\n",
    "])"
   ]
  },
  {
   "cell_type": "code",
   "execution_count": 6,
   "id": "b8b0155b-04d6-4836-9064-1ac0e0e27e7e",
   "metadata": {},
   "outputs": [
    {
     "name": "stderr",
     "output_type": "stream",
     "text": [
      "100%|███████████████████████████████████████████████████████████████████████████████| 170M/170M [00:50<00:00, 3.35MB/s]\n"
     ]
    }
   ],
   "source": [
    "train_data = torchvision.datasets.CIFAR10(root='./data', train = True,\n",
    "                                          transform = transform, \n",
    "                                          download = True\n",
    "                                         )\n",
    "test_data = torchvision.datasets.CIFAR10(root='./data', train = False,\n",
    "                                          transform = transform, \n",
    "                                          download = True\n",
    "                                         )\n",
    "train_loader = torch.utils.data.DataLoader(train_data, \n",
    "                                           batch_size = 32,\n",
    "                                           shuffle = True,\n",
    "                                           num_workers = 2\n",
    "                                          )\n",
    "test_loader = torch.utils.data.DataLoader(test_data, \n",
    "                                           batch_size = 32,\n",
    "                                           shuffle = True,\n",
    "                                           num_workers = 2\n",
    "                                          )"
   ]
  },
  {
   "cell_type": "code",
   "execution_count": 7,
   "id": "a460399a-cb33-41ad-9f81-087bf810dc4b",
   "metadata": {},
   "outputs": [],
   "source": [
    "image, label = train_data[0]"
   ]
  },
  {
   "cell_type": "code",
   "execution_count": 8,
   "id": "8553341d-10a7-4244-a5c7-a9358f6f9d7c",
   "metadata": {},
   "outputs": [],
   "source": [
    "class_names = ['plane', \n",
    "               'car',\n",
    "               'bird',\n",
    "               'cat',\n",
    "               'deer',\n",
    "               'dog',\n",
    "               'frog',\n",
    "               'horse',\n",
    "               'ship',\n",
    "               'truck']"
   ]
  },
  {
   "cell_type": "code",
   "execution_count": 9,
   "id": "6dec9177-181d-4d42-a660-04227ed3dcb1",
   "metadata": {},
   "outputs": [],
   "source": [
    "class NeuralNet(nn.Module):\n",
    "    def __init__(self):\n",
    "        super().__init__()\n",
    "\n",
    "        self.conv1 = nn.Conv2d(3, 12, 5)\n",
    "        self.pool = nn.MaxPool2d(2, 2)\n",
    "        self.conv2 = nn.Conv2d(12, 24, 5)\n",
    "        self.fc1 = nn.Linear(24*5*5, 120)\n",
    "        self.fc2 = nn.Linear(120, 84)\n",
    "        self.fc3 = nn.Linear(84, 10)\n",
    "\n",
    "    def forward (self, x):\n",
    "        x = self.pool(F.relu(self.conv1(x)))\n",
    "        x = self.pool(F.relu(self.conv2(x)))\n",
    "        x = torch.flatten(x, 1)\n",
    "        x = F.relu(self.fc1(x))\n",
    "        x = F.relu(self.fc2(x))\n",
    "        x = self.fc3(x)\n",
    "        return x"
   ]
  },
  {
   "cell_type": "code",
   "execution_count": 12,
   "id": "6ee0d90e-beb0-4edb-8a0a-e8d045560d5a",
   "metadata": {},
   "outputs": [
    {
     "name": "stdout",
     "output_type": "stream",
     "text": [
      "Training epoch 0...\n",
      "Loss: 2.1972\n",
      "Training epoch 1...\n",
      "Loss: 1.7297\n",
      "Training epoch 2...\n",
      "Loss: 1.5109\n",
      "Training epoch 3...\n",
      "Loss: 1.3987\n",
      "Training epoch 4...\n",
      "Loss: 1.3096\n",
      "Training epoch 5...\n",
      "Loss: 1.2306\n",
      "Training epoch 6...\n",
      "Loss: 1.1642\n",
      "Training epoch 7...\n",
      "Loss: 1.1087\n",
      "Training epoch 8...\n",
      "Loss: 1.0548\n",
      "Training epoch 9...\n",
      "Loss: 1.0048\n",
      "Training epoch 10...\n",
      "Loss: 0.9629\n",
      "Training epoch 11...\n",
      "Loss: 0.9185\n",
      "Training epoch 12...\n",
      "Loss: 0.8824\n",
      "Training epoch 13...\n",
      "Loss: 0.8471\n",
      "Training epoch 14...\n",
      "Loss: 0.8127\n",
      "Training epoch 15...\n",
      "Loss: 0.7835\n",
      "Training epoch 16...\n",
      "Loss: 0.7542\n",
      "Training epoch 17...\n",
      "Loss: 0.7280\n",
      "Training epoch 18...\n",
      "Loss: 0.7012\n",
      "Training epoch 19...\n",
      "Loss: 0.6800\n",
      "Training epoch 20...\n",
      "Loss: 0.6555\n",
      "Training epoch 21...\n",
      "Loss: 0.6336\n",
      "Training epoch 22...\n",
      "Loss: 0.6098\n",
      "Training epoch 23...\n",
      "Loss: 0.5893\n",
      "Training epoch 24...\n",
      "Loss: 0.5655\n",
      "Training epoch 25...\n",
      "Loss: 0.5463\n",
      "Training epoch 26...\n",
      "Loss: 0.5272\n",
      "Training epoch 27...\n",
      "Loss: 0.5078\n",
      "Training epoch 28...\n",
      "Loss: 0.4871\n",
      "Training epoch 29...\n",
      "Loss: 0.4670\n",
      "Training epoch 30...\n",
      "Loss: 0.4473\n",
      "Training epoch 31...\n",
      "Loss: 0.4317\n",
      "Training epoch 32...\n",
      "Loss: 0.4173\n",
      "Training epoch 33...\n",
      "Loss: 0.3963\n",
      "Training epoch 34...\n",
      "Loss: 0.3850\n",
      "Training epoch 35...\n",
      "Loss: 0.3653\n",
      "Training epoch 36...\n",
      "Loss: 0.3477\n",
      "Training epoch 37...\n",
      "Loss: 0.3349\n",
      "Training epoch 38...\n",
      "Loss: 0.3165\n",
      "Training epoch 39...\n",
      "Loss: 0.3083\n",
      "Training epoch 40...\n",
      "Loss: 0.2888\n",
      "Training epoch 41...\n",
      "Loss: 0.2784\n",
      "Training epoch 42...\n",
      "Loss: 0.2643\n",
      "Training epoch 43...\n",
      "Loss: 0.2495\n",
      "Training epoch 44...\n",
      "Loss: 0.2406\n",
      "Training epoch 45...\n",
      "Loss: 0.2333\n",
      "Training epoch 46...\n",
      "Loss: 0.2207\n",
      "Training epoch 47...\n",
      "Loss: 0.2105\n",
      "Training epoch 48...\n",
      "Loss: 0.2034\n",
      "Training epoch 49...\n",
      "Loss: 0.1827\n",
      "Training epoch 50...\n",
      "Loss: 0.1797\n",
      "Training epoch 51...\n",
      "Loss: 0.1819\n",
      "Training epoch 52...\n",
      "Loss: 0.1663\n",
      "Training epoch 53...\n",
      "Loss: 0.1565\n",
      "Training epoch 54...\n",
      "Loss: 0.1678\n",
      "Training epoch 55...\n",
      "Loss: 0.1585\n",
      "Training epoch 56...\n",
      "Loss: 0.1379\n",
      "Training epoch 57...\n",
      "Loss: 0.1394\n",
      "Training epoch 58...\n",
      "Loss: 0.1325\n",
      "Training epoch 59...\n",
      "Loss: 0.1365\n",
      "Training epoch 60...\n",
      "Loss: 0.1315\n",
      "Training epoch 61...\n",
      "Loss: 0.1138\n",
      "Training epoch 62...\n",
      "Loss: 0.1171\n",
      "Training epoch 63...\n",
      "Loss: 0.1219\n",
      "Training epoch 64...\n",
      "Loss: 0.1158\n",
      "Training epoch 65...\n",
      "Loss: 0.1131\n",
      "Training epoch 66...\n",
      "Loss: 0.1056\n",
      "Training epoch 67...\n",
      "Loss: 0.0880\n",
      "Training epoch 68...\n",
      "Loss: 0.0770\n",
      "Training epoch 69...\n",
      "Loss: 0.0803\n"
     ]
    }
   ],
   "source": [
    "net = NeuralNet()\n",
    "loss_function = nn.CrossEntropyLoss()\n",
    "optimizer = optim.SGD(net.parameters(), lr = 0.001, momentum = 0.9)\n",
    "for epoch in range(70):\n",
    "    print(f'Training epoch {epoch}...')\n",
    "\n",
    "    running_loss =0.0\n",
    "\n",
    "    for i, data in enumerate(train_loader):\n",
    "        inputs, labels = data\n",
    "\n",
    "        optimizer.zero_grad()\n",
    "\n",
    "        outputs = net(inputs)\n",
    "\n",
    "        loss = loss_function(outputs, labels)\n",
    "        loss.backward()\n",
    "        optimizer.step()\n",
    "\n",
    "        running_loss += loss.item()\n",
    "    print(f'Loss: {running_loss / len(train_loader):.4f}')"
   ]
  },
  {
   "cell_type": "code",
   "execution_count": 13,
   "id": "65b732ed-a92c-4881-b298-936025dc80c0",
   "metadata": {},
   "outputs": [
    {
     "data": {
      "text/plain": [
       "NeuralNet(\n",
       "  (conv1): Conv2d(3, 12, kernel_size=(5, 5), stride=(1, 1))\n",
       "  (pool): MaxPool2d(kernel_size=2, stride=2, padding=0, dilation=1, ceil_mode=False)\n",
       "  (conv2): Conv2d(12, 24, kernel_size=(5, 5), stride=(1, 1))\n",
       "  (fc1): Linear(in_features=600, out_features=120, bias=True)\n",
       "  (fc2): Linear(in_features=120, out_features=84, bias=True)\n",
       "  (fc3): Linear(in_features=84, out_features=10, bias=True)\n",
       ")"
      ]
     },
     "execution_count": 13,
     "metadata": {},
     "output_type": "execute_result"
    }
   ],
   "source": [
    "net.eval()"
   ]
  },
  {
   "cell_type": "code",
   "execution_count": 16,
   "id": "09b2c5f1-d87e-4428-a1da-020ee0f94fac",
   "metadata": {},
   "outputs": [
    {
     "name": "stdout",
     "output_type": "stream",
     "text": [
      "Accuracy : 67.25%\n"
     ]
    }
   ],
   "source": [
    "correct = 0\n",
    "total = 0\n",
    "with torch.no_grad():\n",
    "    for data in test_loader:\n",
    "        images, labels = data\n",
    "        outputs = net(images)\n",
    "        _, predicted = torch.max(outputs, 1)\n",
    "        total += labels.size(0)\n",
    "        correct += (predicted == labels).sum().item() \n",
    "\n",
    "\n",
    "accuracy = 100 * correct / total\n",
    "print(f'Accuracy : {accuracy}%')"
   ]
  },
  {
   "cell_type": "code",
   "execution_count": 26,
   "id": "5e227e12-d477-406c-8f72-c71f88e51e68",
   "metadata": {},
   "outputs": [
    {
     "name": "stdout",
     "output_type": "stream",
     "text": [
      "Prediction: dog\n",
      "Prediction: dog\n",
      "Prediction: plane\n",
      "Prediction: bird\n"
     ]
    }
   ],
   "source": [
    "new_transform = transforms.Compose([\n",
    "    transforms.Resize((32, 32)),\n",
    "    transforms.ToTensor(),\n",
    "    transforms.Normalize((0.5, 0.5, 0.5), (0.5, 0.5, 0.5))\n",
    "])\n",
    "\n",
    "def load_image(image_path):\n",
    "    image = Image.open(image_path)\n",
    "    image = new_transform(image)\n",
    "    image = image.unsqueeze(0)\n",
    "    return image\n",
    "\n",
    "image_paths = ['dog1.jpg', 'horse.jpg', 'plane.jpg', 'horse1.jpg']\n",
    "images = [load_image(img) for img in image_paths]\n",
    "\n",
    "net.eval()\n",
    "with torch.no_grad():\n",
    "    for image in images:\n",
    "        output = net(image)\n",
    "        _, predicted = torch.max(output, 1)\n",
    "        print(f'Prediction: {class_names[predicted.item()]}' )"
   ]
  },
  {
   "cell_type": "code",
   "execution_count": null,
   "id": "abc0fb16-89a7-4515-9e34-cfb37a444726",
   "metadata": {},
   "outputs": [],
   "source": []
  }
 ],
 "metadata": {
  "kernelspec": {
   "display_name": "Python 3 (ipykernel)",
   "language": "python",
   "name": "python3"
  },
  "language_info": {
   "codemirror_mode": {
    "name": "ipython",
    "version": 3
   },
   "file_extension": ".py",
   "mimetype": "text/x-python",
   "name": "python",
   "nbconvert_exporter": "python",
   "pygments_lexer": "ipython3",
   "version": "3.9.21"
  }
 },
 "nbformat": 4,
 "nbformat_minor": 5
}
